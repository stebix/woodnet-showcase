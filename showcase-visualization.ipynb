{
 "cells": [
  {
   "cell_type": "markdown",
   "id": "c6822b01",
   "metadata": {},
   "source": [
    "# Extended Showcase: Visualizations and Explanations\n",
    "# Visualization\n",
    "\n",
    "This notebook is intended to serve as an extended visualization and explanation document for our paper manuscript. We aim to show some insights about the softwood and hardwood wood sample data ($\\textit{Pinus sylvestris}$ and $\\textit{Acer pseudoplatanus}$) recorded with our advanced sub-μ-CT imaging setup. For this, we provide two sample data chunks from both classes. These sample data chunks are downloaded from the open-source data sharing platform Zenodo via the DOI\n",
    "<a href=\"https://doi.org/10.5281/zenodo.13905949\"><img src=\"https://zenodo.org/badge/DOI/10.5281/zenodo.13905949.svg\" alt=\"DOI\"></a>\n",
    "For enhanced viewer and reader advantages, we enriched the data presentation with purpose-built interactive visualizations of the data. \n",
    "The first provided visualization allows the inspection of different slices (cross section images) of the sample volumes. The aspect, i.e. orientation of the cross section can be switched.\n",
    "The second provided visualization consists of a dynanmic and interactive volumetric rendering of a sample chunk of both classes.\n",
    "\n",
    "Note: To actually run the ntoebook code live in your browser, select 'Run' $\\rightarrow$ 'Run All Cells' in the drop down menu bar.\n",
    "Since we are running on public resources, please allow up to 90 seconds runtime for the resource-intensive visualizations cells.\n",
    "\n",
    "2024, Jannik Stebani\n",
    "\n",
    "IAWA Paper Manuscript by Jannik Stebani, Tim Lewandrowski, Kilian Dremel, Simon Zabler and Volker Haag: \"Technical framework presentation of advanced volumetric sub-μ-CT imaging integrated with adaptable deep learning-based wood species classification\""
   ]
  },
  {
   "cell_type": "code",
   "execution_count": 1,
   "id": "5da1745c",
   "metadata": {},
   "outputs": [],
   "source": [
    "from pathlib import Path\n",
    "import numpy as np\n",
    "import ipywidgets as wgt\n",
    "import k3d\n",
    "from rich import print as pprint"
   ]
  },
  {
   "cell_type": "code",
   "execution_count": 2,
   "id": "89cde66c",
   "metadata": {},
   "outputs": [],
   "source": [
    "# essential: use reactive backend\n",
    "%matplotlib widget"
   ]
  },
  {
   "cell_type": "markdown",
   "id": "a5460866",
   "metadata": {},
   "source": [
    "We first make use of the data loading facilities of the `wn_companion` package. Then, both datasets get visualized separately in 2D and in 3D!"
   ]
  },
  {
   "cell_type": "code",
   "execution_count": 4,
   "id": "3a39a021",
   "metadata": {},
   "outputs": [],
   "source": [
    "from wn_companiontools.data.loading import read_data_from_hdf5, read_fingerprint_from_hdf5\n",
    "from wn_companiontools.visualization.common import COLORMAPS\n",
    "from wn_companiontools.visualization.planar import SliceDisplay\n",
    "from wn_companiontools.visualization.volumetric import VolumeDisplay"
   ]
  },
  {
   "cell_type": "code",
   "execution_count": 5,
   "id": "a845175a",
   "metadata": {},
   "outputs": [],
   "source": [
    "# here we read all input data from\n",
    "ARTIFACT_DIR = Path('./artifacts')\n",
    "# for zarr and HDF5, this internal path can be used to bundle versions of the same dataset in a single file-like object\n",
    "INTERNAL_PATH: str = 'scangroup/dataset'"
   ]
  },
  {
   "cell_type": "markdown",
   "id": "b2909cb3",
   "metadata": {},
   "source": [
    "Ensuring it is data there, loading and checking some basic properties ..."
   ]
  },
  {
   "cell_type": "code",
   "execution_count": 6,
   "id": "ce02ee41",
   "metadata": {},
   "outputs": [],
   "source": [
    "ACER_DATA_PATH = ARTIFACT_DIR / 'acer-artifact.hdf5'\n",
    "assert ACER_DATA_PATH.is_file(), 'setup failure: acer artifact is missing'"
   ]
  },
  {
   "cell_type": "code",
   "execution_count": 7,
   "id": "b50b561a",
   "metadata": {},
   "outputs": [],
   "source": [
    "PINUS_DATA_PATH = ARTIFACT_DIR / 'pinus-artifact.hdf5'\n",
    "assert PINUS_DATA_PATH.is_file(), 'setup failure: pinus artifact is missin'"
   ]
  },
  {
   "cell_type": "code",
   "execution_count": null,
   "id": "ac01863f",
   "metadata": {},
   "outputs": [],
   "source": [
    "acer_data = read_data_from_hdf5(ACER_DATA_PATH, INTERNAL_PATH)\n",
    "acer_fingerprint = read_fingerprint_from_hdf5(ACER_DATA_PATH, INTERNAL_PATH)\n",
    "pprint(f'acer data shape: {acer_data.shape}')\n",
    "pprint(acer_fingerprint)"
   ]
  },
  {
   "cell_type": "code",
   "execution_count": null,
   "id": "8649b921",
   "metadata": {},
   "outputs": [],
   "source": [
    "pinus_data = read_data_from_hdf5(PINUS_DATA_PATH, INTERNAL_PATH)\n",
    "pinus_fingerprint = read_fingerprint_from_hdf5(PINUS_DATA_PATH, INTERNAL_PATH)\n",
    "pprint(f'pinus data shape: {acer_data.shape}')\n",
    "pprint(pinus_fingerprint)"
   ]
  },
  {
   "cell_type": "markdown",
   "id": "88c5b393",
   "metadata": {},
   "source": [
    "## Acer: 2D Planar Visualization\n",
    "\n",
    "Here, we take a look at the *Acer pseudoplatanus* data in the canonical 2D view.\n",
    "\n",
    "We can adjust the following parameters of the display dynamically:\n",
    "\n",
    "- lower and upper windowing levels\n",
    "- color map\n",
    "- image cross section\n",
    "- slice index of the image cross section\n",
    "\n",
    "For this, use the controls provided below the image figure. Just play around! If you want to reset the view, just re-evaluate both notebook cells (display and controls).\n",
    "\n",
    "Due to the internal architecture of `matplotlib` and the higher resolution, the figure is sadly not that responsive. A short amount of watining after maniupulating the controls may yield the desired output.\n",
    "We chose the traditional `matplotlib` way so that direct comparisons to the figures provided in our paper manuscript can be made."
   ]
  },
  {
   "cell_type": "code",
   "execution_count": null,
   "id": "fbed44a9",
   "metadata": {},
   "outputs": [],
   "source": [
    "slicedisplay_acer = SliceDisplay(acer_data)"
   ]
  },
  {
   "cell_type": "code",
   "execution_count": null,
   "id": "6baf4340",
   "metadata": {},
   "outputs": [],
   "source": [
    "slicedisplay_acer.get_controls()"
   ]
  },
  {
   "cell_type": "markdown",
   "id": "9d343033",
   "metadata": {},
   "source": [
    "## Pinus: 2D Planar Visualization\n",
    "\n",
    "Here, we take a look at the *Pinus sylvestris* data in the canonical 2D view. All other considerations are similar.\n",
    "\n",
    "We can adjust the following parameters of the display dynamically:\n",
    "\n",
    "- lower and upper windowing levels\n",
    "- color map\n",
    "- image cross section\n",
    "- slice index of the image cross section\n",
    "\n",
    "For this, use the controls provided below the image figure. Just play around! If you want to reset the view, just re-evaluate both notebook cells (display and controls)."
   ]
  },
  {
   "cell_type": "code",
   "execution_count": null,
   "id": "adfeb378",
   "metadata": {},
   "outputs": [],
   "source": [
    "slicedisplay_pinus = SliceDisplay(pinus_data)"
   ]
  },
  {
   "cell_type": "code",
   "execution_count": null,
   "id": "2cf21123",
   "metadata": {},
   "outputs": [],
   "source": [
    "slicedisplay_pinus.get_controls()"
   ]
  },
  {
   "cell_type": "markdown",
   "id": "f8b2031d",
   "metadata": {},
   "source": [
    "## Acer: 3D Volumetric Visualization\n",
    "\n",
    "Now we proceeed to another hopefully interesting showcase, namely the volumetric rendering of *Acer pseudoplatanus* data.\n",
    "\n",
    "In the 3D rendering, we can adjust the following parameters of the display dynamically:\n",
    "\n",
    "- lower and upper windowing levels\n",
    "- color map\n",
    "- rendering zoom level\n",
    "- rendering orientation\n",
    "\n",
    "For windowing and color map, use the controls provided below the image figure.\n",
    "For the zoom level and orientation, you can use the mouse wheel and drag-and-rotate when your pointer is inside the figure. This should be quite intuitive.\n",
    "Just play around! If you want to reset the view, just re-evaluate both notebook cells (display and controls)."
   ]
  },
  {
   "cell_type": "code",
   "execution_count": null,
   "id": "a8d310c1",
   "metadata": {},
   "outputs": [],
   "source": []
  },
  {
   "cell_type": "code",
   "execution_count": 14,
   "id": "8bd7f54e",
   "metadata": {},
   "outputs": [],
   "source": [
    "volumedisplay_acer = VolumeDisplay(acer_data)"
   ]
  },
  {
   "cell_type": "code",
   "execution_count": null,
   "id": "baa813d6",
   "metadata": {},
   "outputs": [],
   "source": [
    "volumedisplay_acer.plot.display()"
   ]
  },
  {
   "cell_type": "code",
   "execution_count": null,
   "id": "6d9b12c1",
   "metadata": {},
   "outputs": [],
   "source": [
    "volumedisplay_acer.get_controls()"
   ]
  },
  {
   "cell_type": "markdown",
   "id": "5c10fa42",
   "metadata": {},
   "source": [
    "## Pinus: 3D Volumetric Visualization\n",
    "\n",
    "We can conclude this visualization showcase by proceeeding to the volumetric rendering of *Pinus sylvestris* data.\n",
    "\n",
    "In the 3D rendering, we can adjust the following parameters of the display dynamically:\n",
    "\n",
    "- lower and upper windowing levels\n",
    "- color map\n",
    "- rendering zoom level\n",
    "- rendering orientation\n",
    "\n",
    "For windowing and color map, use the controls provided below the image figure.\n",
    "For the zoom level and orientation, you can use the mouse wheel and drag-and-rotate when your pointer is inside the figure. This should be quite intuitive.\n",
    "Just play around! If you want to reset the view, just re-evaluate both notebook cells (display and controls)."
   ]
  },
  {
   "cell_type": "code",
   "execution_count": 17,
   "id": "0a3ee35d",
   "metadata": {},
   "outputs": [],
   "source": [
    "volumedisplay_pinus = VolumeDisplay(pinus_data)"
   ]
  },
  {
   "cell_type": "code",
   "execution_count": null,
   "id": "e92c72fd",
   "metadata": {},
   "outputs": [],
   "source": [
    "volumedisplay_pinus.plot.display()"
   ]
  },
  {
   "cell_type": "code",
   "execution_count": null,
   "id": "1a54f83f",
   "metadata": {},
   "outputs": [],
   "source": [
    "volumedisplay_pinus.get_controls()"
   ]
  },
  {
   "cell_type": "code",
   "execution_count": null,
   "id": "213efed4",
   "metadata": {},
   "outputs": [],
   "source": []
  }
 ],
 "metadata": {
  "kernelspec": {
   "display_name": "Python 3 (ipykernel)",
   "language": "python",
   "name": "python3"
  },
  "language_info": {
   "codemirror_mode": {
    "name": "ipython",
    "version": 3
   },
   "file_extension": ".py",
   "mimetype": "text/x-python",
   "name": "python",
   "nbconvert_exporter": "python",
   "pygments_lexer": "ipython3",
   "version": "3.12.6"
  }
 },
 "nbformat": 4,
 "nbformat_minor": 5
}
